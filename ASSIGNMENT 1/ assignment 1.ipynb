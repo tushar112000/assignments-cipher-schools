{
 "cells": [
  {
   "cell_type": "code",
   "execution_count": 29,
   "metadata": {},
   "outputs": [
    {
     "name": "stdout",
     "output_type": "stream",
     "text": [
      "6\n",
      "21\n",
      "6\n",
      "1\n"
     ]
    }
   ],
   "source": [
    "# question--> 2 Write a program to create a user defined tuple with ‘int’ data type and perform the following operations:\n",
    "    #Find the length of tuples\n",
    "    #Find the sum of all the elements of a tuple\n",
    "    #Find the largest and smallest elements of a tuple\n",
    "    \n",
    "a= 1,2,3,4,5,6\n",
    "print(len(a))\n",
    "print(sum(a))\n",
    "print(max(a))\n",
    "print(min(a))"
   ]
  },
  {
   "cell_type": "code",
   "execution_count": 43,
   "metadata": {},
   "outputs": [
    {
     "name": "stdout",
     "output_type": "stream",
     "text": [
      "[1, 2, 3, 4, 5, 5, 6, 8, 7, 8, 9, 0]\n"
     ]
    },
    {
     "data": {
      "text/plain": [
       "{0, 1, 2, 3, 4, 5, 6, 7, 8, 9}"
      ]
     },
     "execution_count": 43,
     "metadata": {},
     "output_type": "execute_result"
    }
   ],
   "source": [
    "#question 1--> Write a program to get a user input in the form of a list data type. Return a list by removing all the duplicates.\n",
    "\n",
    "#1.a\n",
    "\n",
    "list = [1,2,3,4,5,5,6,8,7,8,9,0]\n",
    "\n",
    "print(list)\n",
    "set(list)"
   ]
  },
  {
   "cell_type": "code",
   "execution_count": 30,
   "metadata": {},
   "outputs": [
    {
     "data": {
      "text/plain": [
       "['pushpender', 'rahul', 'rawat', 'sudeep', 'tushar']"
      ]
     },
     "execution_count": 30,
     "metadata": {},
     "output_type": "execute_result"
    }
   ],
   "source": [
    "#question 6 --> Create a user defined dictionary to store names and marks of 5 students. Sort the dictionary according to marks and return this sorted dictionary to the user.\n",
    "\n",
    "Dict = {\"tushar\":71,\"rahul\":34,\"rawat\":53,\"sudeep\":63,\"pushpender\": 67 }\n",
    "\n",
    "sorted (Dict)"
   ]
  },
  {
   "cell_type": "code",
   "execution_count": 31,
   "metadata": {},
   "outputs": [
    {
     "data": {
      "text/plain": [
       "71"
      ]
     },
     "execution_count": 31,
     "metadata": {},
     "output_type": "execute_result"
    }
   ],
   "source": [
    "Dict['tushar']"
   ]
  },
  {
   "cell_type": "code",
   "execution_count": 32,
   "metadata": {},
   "outputs": [
    {
     "data": {
      "text/plain": [
       "53"
      ]
     },
     "execution_count": 32,
     "metadata": {},
     "output_type": "execute_result"
    }
   ],
   "source": [
    "Dict['rawat']"
   ]
  },
  {
   "cell_type": "code",
   "execution_count": 33,
   "metadata": {},
   "outputs": [
    {
     "data": {
      "text/plain": [
       "63"
      ]
     },
     "execution_count": 33,
     "metadata": {},
     "output_type": "execute_result"
    }
   ],
   "source": [
    "Dict['sudeep']"
   ]
  },
  {
   "cell_type": "code",
   "execution_count": 34,
   "metadata": {},
   "outputs": [
    {
     "data": {
      "text/plain": [
       "67"
      ]
     },
     "execution_count": 34,
     "metadata": {},
     "output_type": "execute_result"
    }
   ],
   "source": [
    "Dict['pushpender']"
   ]
  },
  {
   "cell_type": "code",
   "execution_count": 42,
   "metadata": {},
   "outputs": [
    {
     "name": "stdout",
     "output_type": "stream",
     "text": [
      "['1', '7', '3', '8', '5', '6', '2', '4', '9', '0']\n"
     ]
    },
    {
     "data": {
      "text/plain": [
       "['0', '1', '2', '3', '4', '5', '6', '7', '8', '9']"
      ]
     },
     "execution_count": 42,
     "metadata": {},
     "output_type": "execute_result"
    }
   ],
   "source": [
    "#QUESTION-->5. Given two lists of integers A and B. Write a program to merge them into a single sorted list that contains every item from list A and B in ascending order.\n",
    "\n",
    "A=[\"1\",\"7\",\"3\",\"8\",\"5\"]\n",
    "B=[\"6\",\"2\",\"4\",\"9\",\"0\"]\n",
    "print (A+B)\n",
    "sorted (A+B)"
   ]
  },
  {
   "cell_type": "code",
   "execution_count": 44,
   "metadata": {},
   "outputs": [
    {
     "name": "stdout",
     "output_type": "stream",
     "text": [
      "num = 12\n",
      "i = 1\n",
      "14\n"
     ]
    }
   ],
   "source": [
    "# QUESTION-->3. Given a number and ith bit, change the ith bit of that number to 1.\n",
    "#    Sample Input -> num = 13, i = 1\n",
    "#    Output -> 15\n",
    "#    Explanation -> 13 can be represented as 1101 in binary. Now if we set the 1st bit of this binary represented value, we will get 1111 (i.e. 15) as output.\n",
    "\n",
    "num = int(input(\"num = \"))\n",
    "i = int(input(\"i = \"))\n",
    "mag_num = 1<<i\n",
    "bit = num ^ mag_num\n",
    "print(bit)"
   ]
  },
  {
   "cell_type": "code",
   "execution_count": 45,
   "metadata": {},
   "outputs": [
    {
     "name": "stdout",
     "output_type": "stream",
     "text": [
      "Enter a number : 1\n",
      "0\n"
     ]
    }
   ],
   "source": [
    "\n",
    "# QUESTION--> 4 . Given a number, print 1 if the number is odd otherwise print 0.\n",
    "#    NOTE: Try to do this program without the use of if else statement.\n",
    "\n",
    "a=int(input(\"Enter a number : \"))\n",
    "a=a%2==0\n",
    "a=int(a)\n",
    "print(a)"
   ]
  },
  {
   "cell_type": "code",
   "execution_count": null,
   "metadata": {},
   "outputs": [],
   "source": []
  }
 ],
 "metadata": {
  "kernelspec": {
   "display_name": "Python 3",
   "language": "python",
   "name": "python3"
  },
  "language_info": {
   "codemirror_mode": {
    "name": "ipython",
    "version": 3
   },
   "file_extension": ".py",
   "mimetype": "text/x-python",
   "name": "python",
   "nbconvert_exporter": "python",
   "pygments_lexer": "ipython3",
   "version": "3.7.6"
  }
 },
 "nbformat": 4,
 "nbformat_minor": 4
}
